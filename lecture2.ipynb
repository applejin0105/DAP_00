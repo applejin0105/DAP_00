{
  "nbformat": 4,
  "nbformat_minor": 0,
  "metadata": {
    "colab": {
      "name": "00.ipynb",
      "provenance": [],
      "collapsed_sections": [],
      "mount_file_id": "1Tiixn5_xCB0Euxn156WtXqQEGt0f9Gyl",
      "authorship_tag": "ABX9TyOAl/F0+INBAFs3JhJUh1q+",
      "include_colab_link": true
    },
    "kernelspec": {
      "name": "python3",
      "display_name": "Python 3"
    },
    "language_info": {
      "name": "python"
    }
  },
  "cells": [
    {
      "cell_type": "markdown",
      "metadata": {
        "id": "view-in-github",
        "colab_type": "text"
      },
      "source": [
        "<a href=\"https://colab.research.google.com/github/applejin0105/DAP_00/blob/main/lecture2.ipynb\" target=\"_parent\"><img src=\"https://colab.research.google.com/assets/colab-badge.svg\" alt=\"Open In Colab\"/></a>"
      ]
    },
    {
      "cell_type": "code",
      "metadata": {
        "id": "WUv8YFJU2mHJ"
      },
      "source": [
        "import numpy as np\n",
        "import pandas as pd\n",
        "import scipy\n",
        "import matplotlib\n",
        "import seaborn as sns\n",
        "import sklearn"
      ],
      "execution_count": null,
      "outputs": []
    },
    {
      "cell_type": "code",
      "metadata": {
        "id": "dA5HZrkVBB03"
      },
      "source": [
        "from google.colab import drive\n",
        "drive.mount('/content/drive')"
      ],
      "execution_count": null,
      "outputs": []
    },
    {
      "cell_type": "code",
      "metadata": {
        "id": "mSwyZMNi5tSf"
      },
      "source": [
        "print (f'numpy version: {np.__version__}')\n",
        "print (f'pandas version: {pd.__version__}')\n",
        "print (f'scipy version: {scipy.__version__}')\n",
        "print (f'matplotlib version: {matplotlib.__version__}')\n",
        "print (f'seaborn version: {sns.__version__}')\n",
        "print (f'sklearn version: {sklearn.__version__}')"
      ],
      "execution_count": null,
      "outputs": []
    }
  ]
}