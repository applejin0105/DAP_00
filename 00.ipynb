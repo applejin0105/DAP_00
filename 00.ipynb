{
  "nbformat": 4,
  "nbformat_minor": 0,
  "metadata": {
    "colab": {
      "name": "00.ipynb",
      "provenance": [],
      "collapsed_sections": [],
      "authorship_tag": "ABX9TyNkpsef8vc1SV/M4aWAIfGA",
      "include_colab_link": true
    },
    "kernelspec": {
      "name": "python3",
      "display_name": "Python 3"
    },
    "language_info": {
      "name": "python"
    }
  },
  "cells": [
    {
      "cell_type": "markdown",
      "metadata": {
        "id": "view-in-github",
        "colab_type": "text"
      },
      "source": [
        "<a href=\"https://colab.research.google.com/github/applejin0105/DAP_00/blob/main/00.ipynb\" target=\"_parent\"><img src=\"https://colab.research.google.com/assets/colab-badge.svg\" alt=\"Open In Colab\"/></a>"
      ]
    },
    {
      "cell_type": "code",
      "metadata": {
        "id": "WUv8YFJU2mHJ"
      },
      "source": [
        "import numpy as np\n",
        "import pandas as pd\n",
        "import scipy\n",
        "import matplotlib\n",
        "import seaborn as sns\n",
        "import sklearn"
      ],
      "execution_count": null,
      "outputs": []
    },
    {
      "cell_type": "code",
      "metadata": {
        "id": "mSwyZMNi5tSf"
      },
      "source": [
        "print (f'numpy version: {np.__version__}')\n",
        "print (f'pandas version: {pd.__version__}')\n",
        "print (f'scipy version: {scipy.__version__}')\n",
        "print (f'matplotlib version: {matplotlib.__version__}')\n",
        "print (f'seaborn version: {sns.__version__}')\n",
        "print (f'sklearn version: {sklearn.__version__}')"
      ],
      "execution_count": null,
      "outputs": []
    }
  ]
}